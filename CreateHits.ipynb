{
 "cells": [
  {
   "cell_type": "code",
   "execution_count": 9,
   "metadata": {},
   "outputs": [],
   "source": [
    "import boto3\n",
    "import xmltodict\n",
    "import json"
   ]
  },
  {
   "cell_type": "code",
   "execution_count": 14,
   "metadata": {},
   "outputs": [],
   "source": [
    "create_hits_in_production = False\n",
    "environments = {\n",
    "  \"production\": {\n",
    "    \"endpoint\": \"https://mturk-requester.us-east-1.amazonaws.com\",\n",
    "    \"preview\": \"https://www.mturk.com/mturk/preview\"\n",
    "  },\n",
    "  \"sandbox\": {\n",
    "    \"endpoint\": \n",
    "          \"https://mturk-requester-sandbox.us-east-1.amazonaws.com\",\n",
    "    \"preview\": \"https://workersandbox.mturk.com/mturk/preview\"\n",
    "  },\n",
    "}\n",
    "mturk_environment = environments[\"production\"] if create_hits_in_production else environments[\"sandbox\"]\n",
    "session = boto3.Session(profile_name='mturk')\n",
    "client = session.client(\n",
    "    service_name='mturk',\n",
    "    region_name='us-east-1',\n",
    "    endpoint_url=mturk_environment['endpoint'],\n",
    ")"
   ]
  },
  {
   "cell_type": "code",
   "execution_count": 15,
   "metadata": {},
   "outputs": [
    {
     "name": "stdout",
     "output_type": "stream",
     "text": [
      "10000.00\n"
     ]
    }
   ],
   "source": [
    "print(client.get_account_balance()['AvailableBalance'])"
   ]
  },
  {
   "cell_type": "code",
   "execution_count": 19,
   "metadata": {},
   "outputs": [
    {
     "name": "stdout",
     "output_type": "stream",
     "text": [
      "You can view the HITs here:\n",
      "https://workersandbox.mturk.com/mturk/preview?groupId=306E1TDSETW318CAO0IXW42F9ONDRM\n"
     ]
    }
   ],
   "source": [
    "TaskAttributes = {\n",
    "    'MaxAssignments': 5,           \n",
    "    # How long the task will be available on MTurk (24 hour)     \n",
    "    'LifetimeInSeconds': 60*60*24,\n",
    "    # How long Workers have to complete each item (1 hour)\n",
    "    'AssignmentDurationInSeconds': 60*60,\n",
    "    # The reward you will offer Workers for each response\n",
    "    'Reward': '0.05',                     \n",
    "    'Title': 'Upload Pictures of Your Finger',\n",
    "    'Keywords': 'image, finger',\n",
    "    'Description': 'Takephotos of your index finger and upload.'\n",
    "}\n",
    "\n",
    "results = []\n",
    "hit_type_id = ''\n",
    "response = client.create_hit(\n",
    "    **TaskAttributes,\n",
    "    HITLayoutId =\"38NZ906AG98WQB6HB8NEME8VGGT3U1\",\n",
    "    # HITLayoutParameters = None, \n",
    ")\n",
    "hit_type_id = response['HIT']['HITTypeId']\n",
    "results.append({\n",
    "    'hit_id': response['HIT']['HITId']\n",
    "})\n",
    "    \n",
    "print(\"You can view the HITs here:\")\n",
    "print(mturk_environment['preview']+\"?groupId={}\".format(hit_type_id))"
   ]
  },
  {
   "cell_type": "code",
   "execution_count": null,
   "metadata": {},
   "outputs": [],
   "source": []
  },
  {
   "cell_type": "code",
   "execution_count": null,
   "metadata": {},
   "outputs": [],
   "source": []
  }
 ],
 "metadata": {
  "kernelspec": {
   "display_name": "Python 3",
   "language": "python",
   "name": "python3"
  },
  "language_info": {
   "codemirror_mode": {
    "name": "ipython",
    "version": 3
   },
   "file_extension": ".py",
   "mimetype": "text/x-python",
   "name": "python",
   "nbconvert_exporter": "python",
   "pygments_lexer": "ipython3",
   "version": "3.7.3"
  }
 },
 "nbformat": 4,
 "nbformat_minor": 2
}
